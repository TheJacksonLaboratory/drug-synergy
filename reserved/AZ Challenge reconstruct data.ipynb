{
 "cells": [
  {
   "cell_type": "code",
   "execution_count": 1,
   "id": "cacd79e4",
   "metadata": {},
   "outputs": [
    {
     "data": {
      "text/html": [
       "<style>.container { width:95% !important; }</style>"
      ],
      "text/plain": [
       "<IPython.core.display.HTML object>"
      ]
     },
     "metadata": {},
     "output_type": "display_data"
    }
   ],
   "source": [
    "from IPython.core.display import display, HTML\n",
    "display(HTML(\"<style>.container { width:95% !important; }</style>\"))"
   ]
  },
  {
   "cell_type": "code",
   "execution_count": 11,
   "id": "ccb30e7d",
   "metadata": {},
   "outputs": [
    {
     "name": "stdout",
     "output_type": "stream",
     "text": [
      "The autoreload extension is already loaded. To reload it, use:\n",
      "  %reload_ext autoreload\n"
     ]
    }
   ],
   "source": [
    "%load_ext autoreload\n",
    "%autoreload 2"
   ]
  },
  {
   "cell_type": "code",
   "execution_count": 3,
   "id": "ee959fb5",
   "metadata": {},
   "outputs": [],
   "source": [
    "import pandas as pd\n",
    "import numpy as np\n",
    "import os\n",
    "import sys\n",
    "import copy\n",
    "from matplotlib import pyplot as plt\n",
    "from scipy.stats import ttest_ind, pearsonr\n",
    "from scipy.spatial.distance import pdist\n",
    "from scipy.cluster.hierarchy import dendrogram, linkage\n",
    "import scipy.cluster.hierarchy as hierarchy\n",
    "from sklearn.linear_model import LogisticRegression\n",
    "from sklearn.model_selection import cross_validate, KFold, GridSearchCV\n",
    "from sklearn import tree\n",
    "from sklearn.tree import DecisionTreeClassifier\n",
    "from sklearn.ensemble import RandomForestClassifier\n",
    "from sklearn.metrics import f1_score, accuracy_score\n",
    "\n",
    "import warnings\n",
    "warnings.simplefilter(action='ignore', category=pd.errors.PerformanceWarning)\n",
    "size = lambda obj: '%s MB' % np.round(sys.getsizeof(obj) / (1024**2), 1)"
   ]
  },
  {
   "cell_type": "code",
   "execution_count": 12,
   "id": "64079ea9",
   "metadata": {},
   "outputs": [],
   "source": [
    "from preparation_functions import *\n",
    "from method_functions import *\n",
    "from plot_functions import *\n",
    "from general_functions import *"
   ]
  },
  {
   "cell_type": "code",
   "execution_count": 5,
   "id": "ae999ed5",
   "metadata": {},
   "outputs": [],
   "source": [
    "projectDir = 'c:/Projects/A_PDX_drug_synergy/'\n",
    "\n",
    "dirAZpharmacol = projectDir + 'data/restricted_use/syn18496666/AZ Drug Synergy Data/'\n",
    "dirAZmolecular = projectDir + 'data/restricted_use/syn4923181/'\n",
    "dirGDSCsensitivity = projectDir + 'data/fromGDSC/'\n",
    "dirGraceCuratedSynergy = projectDir + 'data/curated synergy Grace/'\n",
    "dirFromSanger = projectDir + 'data/fromSanger/' # https://cellmodelpassports.sanger.ac.uk/downloads"
   ]
  },
  {
   "cell_type": "code",
   "execution_count": 6,
   "id": "df6b4de3",
   "metadata": {},
   "outputs": [
    {
     "name": "stdout",
     "output_type": "stream",
     "text": [
      "(39246,)\n"
     ]
    },
    {
     "data": {
      "text/html": [
       "<div>\n",
       "<style scoped>\n",
       "    .dataframe tbody tr th:only-of-type {\n",
       "        vertical-align: middle;\n",
       "    }\n",
       "\n",
       "    .dataframe tbody tr th {\n",
       "        vertical-align: top;\n",
       "    }\n",
       "\n",
       "    .dataframe thead th {\n",
       "        text-align: right;\n",
       "    }\n",
       "</style>\n",
       "<table border=\"1\" class=\"dataframe\">\n",
       "  <thead>\n",
       "    <tr style=\"text-align: right;\">\n",
       "      <th></th>\n",
       "      <th></th>\n",
       "      <th></th>\n",
       "      <th>SYNERGY_SCORE</th>\n",
       "    </tr>\n",
       "    <tr>\n",
       "      <th>MODEL</th>\n",
       "      <th>DRUG1</th>\n",
       "      <th>DRUG2</th>\n",
       "      <th></th>\n",
       "    </tr>\n",
       "  </thead>\n",
       "  <tbody>\n",
       "    <tr>\n",
       "      <th rowspan=\"3\" valign=\"top\">22RV1</th>\n",
       "      <th rowspan=\"3\" valign=\"top\">akt</th>\n",
       "      <th>ar</th>\n",
       "      <td>0.190</td>\n",
       "    </tr>\n",
       "    <tr>\n",
       "      <th>ar_1</th>\n",
       "      <td>6.415</td>\n",
       "    </tr>\n",
       "    <tr>\n",
       "      <th>bcl2</th>\n",
       "      <td>-54.700</td>\n",
       "    </tr>\n",
       "  </tbody>\n",
       "</table>\n",
       "</div>"
      ],
      "text/plain": [
       "                   SYNERGY_SCORE\n",
       "MODEL DRUG1 DRUG2               \n",
       "22RV1 akt   ar             0.190\n",
       "            ar_1           6.415\n",
       "            bcl2         -54.700"
      ]
     },
     "execution_count": 6,
     "metadata": {},
     "output_type": "execute_result"
    }
   ],
   "source": [
    "# 119 drugs * 137 models = 19623 unique pairs\n",
    "se_drug_synergy_AZ = prepAZsynergy(dirAZpharmacol + 'Combined Challenge Synergy Data/')\n",
    "print(se_drug_synergy_AZ.shape)\n",
    "se_drug_synergy_AZ.to_frame().head(3)"
   ]
  },
  {
   "cell_type": "code",
   "execution_count": 16,
   "id": "85d03054",
   "metadata": {},
   "outputs": [
    {
     "name": "stdout",
     "output_type": "stream",
     "text": [
      "(1089,) (591,) (2199,) (3826,) (3870,)\n",
      "11317\n",
      "ch2_leaderboard    3778\n",
      "ch2_test           3767\n",
      "ch1_train          2112\n",
      "ch1_test           1077\n",
      "ch1_leaderboard     583\n",
      "Name: SYNERGY_SCORE, dtype: int64\n"
     ]
    },
    {
     "data": {
      "text/plain": [
       "MODEL     DRUG1         DRUG2\n",
       "22RV1     akt           ar       NaN\n",
       "                        ar_1     NaN\n",
       "                        bcl2     NaN\n",
       "                        erbb     NaN\n",
       "                        fgfr     NaN\n",
       "                                ... \n",
       "ZR751FGF  proteasome_2  fgfr     NaN\n",
       "          tnf           iap      NaN\n",
       "          tnfsf10       iap      NaN\n",
       "          vegf          fgfr     NaN\n",
       "          wnt           fgfr     NaN\n",
       "Name: SYNERGY_SCORE, Length: 39246, dtype: object"
      ]
     },
     "execution_count": 16,
     "metadata": {},
     "output_type": "execute_result"
    }
   ],
   "source": [
    "loadAZchallengeIndex(se_drug_synergy_AZ, dirAZpharmacol)"
   ]
  },
  {
   "cell_type": "code",
   "execution_count": 8,
   "id": "1cc09783",
   "metadata": {},
   "outputs": [
    {
     "name": "stdout",
     "output_type": "stream",
     "text": [
      "0.0030100576740610305\n"
     ]
    },
    {
     "data": {
      "text/html": [
       "<div>\n",
       "<style scoped>\n",
       "    .dataframe tbody tr th:only-of-type {\n",
       "        vertical-align: middle;\n",
       "    }\n",
       "\n",
       "    .dataframe tbody tr th {\n",
       "        vertical-align: top;\n",
       "    }\n",
       "\n",
       "    .dataframe thead th {\n",
       "        text-align: right;\n",
       "    }\n",
       "</style>\n",
       "<table border=\"1\" class=\"dataframe\">\n",
       "  <thead>\n",
       "    <tr style=\"text-align: right;\">\n",
       "      <th></th>\n",
       "      <th></th>\n",
       "      <th></th>\n",
       "      <th>SYNERGY_SCORE</th>\n",
       "      <th>SYNERGY_SCORE_PREDICTED</th>\n",
       "    </tr>\n",
       "    <tr>\n",
       "      <th>MODEL</th>\n",
       "      <th>DRUG1</th>\n",
       "      <th>DRUG2</th>\n",
       "      <th></th>\n",
       "      <th></th>\n",
       "    </tr>\n",
       "  </thead>\n",
       "  <tbody>\n",
       "    <tr>\n",
       "      <th rowspan=\"5\" valign=\"top\">22RV1</th>\n",
       "      <th rowspan=\"5\" valign=\"top\">akt</th>\n",
       "      <th>ar</th>\n",
       "      <td>0.190</td>\n",
       "      <td>0.527013</td>\n",
       "    </tr>\n",
       "    <tr>\n",
       "      <th>ar_1</th>\n",
       "      <td>6.415</td>\n",
       "      <td>0.149341</td>\n",
       "    </tr>\n",
       "    <tr>\n",
       "      <th>bcl2</th>\n",
       "      <td>-54.700</td>\n",
       "      <td>0.361111</td>\n",
       "    </tr>\n",
       "    <tr>\n",
       "      <th>erbb</th>\n",
       "      <td>6.415</td>\n",
       "      <td>0.110853</td>\n",
       "    </tr>\n",
       "    <tr>\n",
       "      <th>fgfr</th>\n",
       "      <td>-8.590</td>\n",
       "      <td>0.976205</td>\n",
       "    </tr>\n",
       "    <tr>\n",
       "      <th>...</th>\n",
       "      <th>...</th>\n",
       "      <th>...</th>\n",
       "      <td>...</td>\n",
       "      <td>...</td>\n",
       "    </tr>\n",
       "    <tr>\n",
       "      <th rowspan=\"5\" valign=\"top\">HCC1500</th>\n",
       "      <th rowspan=\"5\" valign=\"top\">esr1_1</th>\n",
       "      <th>erbb</th>\n",
       "      <td>1.480</td>\n",
       "      <td>0.415260</td>\n",
       "    </tr>\n",
       "    <tr>\n",
       "      <th>fgfr</th>\n",
       "      <td>9.850</td>\n",
       "      <td>0.823867</td>\n",
       "    </tr>\n",
       "    <tr>\n",
       "      <th>jak</th>\n",
       "      <td>11.000</td>\n",
       "      <td>0.683344</td>\n",
       "    </tr>\n",
       "    <tr>\n",
       "      <th>map2k_1</th>\n",
       "      <td>5.090</td>\n",
       "      <td>0.200688</td>\n",
       "    </tr>\n",
       "    <tr>\n",
       "      <th>mtor_1</th>\n",
       "      <td>12.500</td>\n",
       "      <td>0.562564</td>\n",
       "    </tr>\n",
       "  </tbody>\n",
       "</table>\n",
       "<p>10000 rows × 2 columns</p>\n",
       "</div>"
      ],
      "text/plain": [
       "                        SYNERGY_SCORE  SYNERGY_SCORE_PREDICTED\n",
       "MODEL   DRUG1  DRUG2                                          \n",
       "22RV1   akt    ar               0.190                 0.527013\n",
       "               ar_1             6.415                 0.149341\n",
       "               bcl2           -54.700                 0.361111\n",
       "               erbb             6.415                 0.110853\n",
       "               fgfr            -8.590                 0.976205\n",
       "...                               ...                      ...\n",
       "HCC1500 esr1_1 erbb             1.480                 0.415260\n",
       "               fgfr             9.850                 0.823867\n",
       "               jak             11.000                 0.683344\n",
       "               map2k_1          5.090                 0.200688\n",
       "               mtor_1          12.500                 0.562564\n",
       "\n",
       "[10000 rows x 2 columns]"
      ]
     },
     "execution_count": 8,
     "metadata": {},
     "output_type": "execute_result"
    }
   ],
   "source": [
    "subset = se_drug_synergy_AZ.iloc[:10000].to_frame()\n",
    "subset['SYNERGY_SCORE_PREDICTED'] = np.random.rand(len(subset))\n",
    "print(ro_normalized(subset))\n",
    "subset"
   ]
  },
  {
   "cell_type": "code",
   "execution_count": null,
   "id": "a3e400f0",
   "metadata": {},
   "outputs": [],
   "source": []
  }
 ],
 "metadata": {
  "kernelspec": {
   "display_name": "Python 3",
   "language": "python",
   "name": "python3"
  },
  "language_info": {
   "codemirror_mode": {
    "name": "ipython",
    "version": 3
   },
   "file_extension": ".py",
   "mimetype": "text/x-python",
   "name": "python",
   "nbconvert_exporter": "python",
   "pygments_lexer": "ipython3",
   "version": "3.8.8"
  }
 },
 "nbformat": 4,
 "nbformat_minor": 5
}
